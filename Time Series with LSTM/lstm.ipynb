{
 "cells": [
  {
   "cell_type": "markdown",
   "id": "8edc798b",
   "metadata": {},
   "source": [
    "#### The explanation for each cell is provided in the markdown section right below the respective code cell."
   ]
  },
  {
   "cell_type": "code",
   "execution_count": 1,
   "id": "56ce618a",
   "metadata": {},
   "outputs": [],
   "source": [
    "import numpy\n",
    "import matplotlib.pyplot as plt\n",
    "import pandas\n",
    "import math\n",
    "from keras.models import Sequential\n",
    "from keras.layers import Dense\n",
    "from keras.layers import LSTM\n",
    "from sklearn.preprocessing import MinMaxScaler\n",
    "from sklearn.metrics import mean_squared_error\n",
    "# fix random seed for reproducibility\n",
    "numpy.random.seed(7)"
   ]
  },
  {
   "cell_type": "markdown",
   "id": "3acec60e",
   "metadata": {},
   "source": [
    "Import required libraries for data handling, math, deep learning, scaling, and evaluation.\n",
    "\n",
    "Fix seed so results don’t change on every run."
   ]
  },
  {
   "cell_type": "code",
   "execution_count": 2,
   "id": "f42080e5",
   "metadata": {},
   "outputs": [],
   "source": [
    "# load the dataset\n",
    "dataframe = pandas.read_csv('airline_passengers.csv', usecols=[1], engine='python')\n",
    "dataset = dataframe.values\n",
    "dataset = dataset.astype('float32')\n",
    "# normalize the dataset\n",
    "scaler = MinMaxScaler(feature_range=(0, 1))\n",
    "dataset = scaler.fit_transform(dataset)"
   ]
  },
  {
   "cell_type": "markdown",
   "id": "27735e04",
   "metadata": {},
   "source": [
    "Reads the Airline Passengers dataset (only passenger numbers column).\n",
    "\n",
    "Converts it to float (neural nets need float).\n",
    "\n",
    "Scales values between 0 and 1 → helps LSTM converge faster and avoid instability."
   ]
  },
  {
   "cell_type": "code",
   "execution_count": 3,
   "id": "def193ab",
   "metadata": {},
   "outputs": [
    {
     "name": "stdout",
     "output_type": "stream",
     "text": [
      "96 48\n"
     ]
    }
   ],
   "source": [
    "# split into train and test sets\n",
    "train_size = int(len(dataset) * 0.67)\n",
    "test_size = len(dataset) - train_size\n",
    "train, test = dataset[0:train_size,:], dataset[train_size:len(dataset),:]\n",
    "print(len(train), len(test))"
   ]
  },
  {
   "cell_type": "markdown",
   "id": "0cf1b81d",
   "metadata": {},
   "source": [
    "Takes 67% of rows for training, remaining for testing.\n",
    "\n",
    "Training data → model learns patterns.\n",
    "\n",
    "Testing data → model is evaluated on unseen data."
   ]
  },
  {
   "cell_type": "markdown",
   "id": "ab43e32c",
   "metadata": {},
   "source": [
    "## Time Series with LSTM\n",
    "\n",
    "\n",
    "Now before training the data on the LSTM model, we need to prepare the data so that we can fit it on the model, for this task I will define a helper function:"
   ]
  },
  {
   "cell_type": "code",
   "execution_count": 4,
   "id": "ea64318e",
   "metadata": {},
   "outputs": [],
   "source": [
    "# convert an array of values into a dataset matrix\n",
    "def create_dataset(dataset, look_back=1):\n",
    "\tdataX, dataY = [], []\n",
    "\tfor i in range(len(dataset)-look_back-1):\n",
    "\t\ta = dataset[i:(i+look_back), 0]\n",
    "\t\tdataX.append(a)\n",
    "\t\tdataY.append(dataset[i + look_back, 0])\n",
    "\treturn numpy.array(dataX), numpy.array(dataY)"
   ]
  },
  {
   "cell_type": "markdown",
   "id": "ed2aa994",
   "metadata": {},
   "source": [
    "Function turns a sequence into X (inputs) and Y (outputs).\n",
    "\n",
    "With look_back=1, input is value at time t, output is value at t+1.\n",
    "\n",
    "Creates many such pairs across dataset."
   ]
  },
  {
   "cell_type": "code",
   "execution_count": 5,
   "id": "11a4c772",
   "metadata": {},
   "outputs": [],
   "source": [
    "# reshape into X=t and Y=t+1\n",
    "look_back = 1\n",
    "trainX, trainY = create_dataset(train, look_back)\n",
    "testX, testY = create_dataset(test, look_back)\n",
    "# reshape input to be [samples, time steps, features]\n",
    "trainX = numpy.reshape(trainX, (trainX.shape[0], 1, trainX.shape[1]))\n",
    "testX = numpy.reshape(testX, (testX.shape[0], 1, testX.shape[1]))"
   ]
  },
  {
   "cell_type": "markdown",
   "id": "732c0a1b",
   "metadata": {},
   "source": [
    "LSTM in Keras requires input in 3D:\n",
    "\n",
    "samples = number of sequences.\n",
    "\n",
    "timesteps = length of each input sequence (here = 1).\n",
    "\n",
    "features = number of features per step (here = 1).\n",
    "\n",
    "Reshaping ensures input shape matches (samples, 1, 1)."
   ]
  },
  {
   "cell_type": "code",
   "execution_count": 6,
   "id": "c73e97bd",
   "metadata": {},
   "outputs": [
    {
     "name": "stderr",
     "output_type": "stream",
     "text": [
      "c:\\Users\\Ritu Vishwakarma\\AppData\\Local\\Programs\\Python\\Python312\\Lib\\site-packages\\keras\\src\\layers\\rnn\\rnn.py:200: UserWarning: Do not pass an `input_shape`/`input_dim` argument to a layer. When using Sequential models, prefer using an `Input(shape)` object as the first layer in the model instead.\n",
      "  super().__init__(**kwargs)\n"
     ]
    },
    {
     "name": "stdout",
     "output_type": "stream",
     "text": [
      "Epoch 1/100\n",
      "94/94 - 2s - 23ms/step - loss: 0.0382\n",
      "Epoch 2/100\n",
      "94/94 - 0s - 2ms/step - loss: 0.0163\n",
      "Epoch 3/100\n",
      "94/94 - 0s - 2ms/step - loss: 0.0123\n",
      "Epoch 4/100\n",
      "94/94 - 0s - 2ms/step - loss: 0.0113\n",
      "Epoch 5/100\n",
      "94/94 - 0s - 2ms/step - loss: 0.0101\n",
      "Epoch 6/100\n",
      "94/94 - 0s - 2ms/step - loss: 0.0091\n",
      "Epoch 7/100\n",
      "94/94 - 0s - 2ms/step - loss: 0.0081\n",
      "Epoch 8/100\n",
      "94/94 - 0s - 2ms/step - loss: 0.0072\n",
      "Epoch 9/100\n",
      "94/94 - 0s - 2ms/step - loss: 0.0064\n",
      "Epoch 10/100\n",
      "94/94 - 0s - 2ms/step - loss: 0.0056\n",
      "Epoch 11/100\n",
      "94/94 - 0s - 2ms/step - loss: 0.0049\n",
      "Epoch 12/100\n",
      "94/94 - 0s - 3ms/step - loss: 0.0043\n",
      "Epoch 13/100\n",
      "94/94 - 0s - 2ms/step - loss: 0.0038\n",
      "Epoch 14/100\n",
      "94/94 - 0s - 2ms/step - loss: 0.0034\n",
      "Epoch 15/100\n",
      "94/94 - 0s - 2ms/step - loss: 0.0030\n",
      "Epoch 16/100\n",
      "94/94 - 0s - 2ms/step - loss: 0.0027\n",
      "Epoch 17/100\n",
      "94/94 - 0s - 2ms/step - loss: 0.0026\n",
      "Epoch 18/100\n",
      "94/94 - 0s - 2ms/step - loss: 0.0024\n",
      "Epoch 19/100\n",
      "94/94 - 0s - 2ms/step - loss: 0.0023\n",
      "Epoch 20/100\n",
      "94/94 - 0s - 2ms/step - loss: 0.0022\n",
      "Epoch 21/100\n",
      "94/94 - 0s - 2ms/step - loss: 0.0022\n",
      "Epoch 22/100\n",
      "94/94 - 0s - 2ms/step - loss: 0.0021\n",
      "Epoch 23/100\n",
      "94/94 - 0s - 2ms/step - loss: 0.0021\n",
      "Epoch 24/100\n",
      "94/94 - 0s - 2ms/step - loss: 0.0020\n",
      "Epoch 25/100\n",
      "94/94 - 0s - 2ms/step - loss: 0.0022\n",
      "Epoch 26/100\n",
      "94/94 - 0s - 2ms/step - loss: 0.0020\n",
      "Epoch 27/100\n",
      "94/94 - 0s - 2ms/step - loss: 0.0021\n",
      "Epoch 28/100\n",
      "94/94 - 0s - 2ms/step - loss: 0.0020\n",
      "Epoch 29/100\n",
      "94/94 - 0s - 2ms/step - loss: 0.0020\n",
      "Epoch 30/100\n",
      "94/94 - 0s - 2ms/step - loss: 0.0020\n",
      "Epoch 31/100\n",
      "94/94 - 0s - 2ms/step - loss: 0.0021\n",
      "Epoch 32/100\n",
      "94/94 - 0s - 2ms/step - loss: 0.0020\n",
      "Epoch 33/100\n",
      "94/94 - 0s - 2ms/step - loss: 0.0021\n",
      "Epoch 34/100\n",
      "94/94 - 0s - 2ms/step - loss: 0.0020\n",
      "Epoch 35/100\n",
      "94/94 - 0s - 2ms/step - loss: 0.0020\n",
      "Epoch 36/100\n",
      "94/94 - 0s - 2ms/step - loss: 0.0020\n",
      "Epoch 37/100\n",
      "94/94 - 0s - 2ms/step - loss: 0.0020\n",
      "Epoch 38/100\n",
      "94/94 - 0s - 2ms/step - loss: 0.0021\n",
      "Epoch 39/100\n",
      "94/94 - 0s - 2ms/step - loss: 0.0020\n",
      "Epoch 40/100\n",
      "94/94 - 0s - 2ms/step - loss: 0.0021\n",
      "Epoch 41/100\n",
      "94/94 - 0s - 2ms/step - loss: 0.0021\n",
      "Epoch 42/100\n",
      "94/94 - 0s - 2ms/step - loss: 0.0021\n",
      "Epoch 43/100\n",
      "94/94 - 0s - 2ms/step - loss: 0.0021\n",
      "Epoch 44/100\n",
      "94/94 - 0s - 2ms/step - loss: 0.0020\n",
      "Epoch 45/100\n",
      "94/94 - 0s - 2ms/step - loss: 0.0021\n",
      "Epoch 46/100\n",
      "94/94 - 0s - 2ms/step - loss: 0.0020\n",
      "Epoch 47/100\n",
      "94/94 - 0s - 2ms/step - loss: 0.0020\n",
      "Epoch 48/100\n",
      "94/94 - 0s - 3ms/step - loss: 0.0021\n",
      "Epoch 49/100\n",
      "94/94 - 0s - 2ms/step - loss: 0.0021\n",
      "Epoch 50/100\n",
      "94/94 - 0s - 3ms/step - loss: 0.0020\n",
      "Epoch 51/100\n",
      "94/94 - 0s - 3ms/step - loss: 0.0021\n",
      "Epoch 52/100\n",
      "94/94 - 0s - 2ms/step - loss: 0.0020\n",
      "Epoch 53/100\n",
      "94/94 - 0s - 3ms/step - loss: 0.0021\n",
      "Epoch 54/100\n",
      "94/94 - 0s - 3ms/step - loss: 0.0020\n",
      "Epoch 55/100\n",
      "94/94 - 0s - 3ms/step - loss: 0.0021\n",
      "Epoch 56/100\n",
      "94/94 - 0s - 3ms/step - loss: 0.0021\n",
      "Epoch 57/100\n",
      "94/94 - 0s - 3ms/step - loss: 0.0020\n",
      "Epoch 58/100\n",
      "94/94 - 0s - 2ms/step - loss: 0.0021\n",
      "Epoch 59/100\n",
      "94/94 - 0s - 2ms/step - loss: 0.0020\n",
      "Epoch 60/100\n",
      "94/94 - 0s - 2ms/step - loss: 0.0020\n",
      "Epoch 61/100\n",
      "94/94 - 0s - 4ms/step - loss: 0.0020\n",
      "Epoch 62/100\n",
      "94/94 - 0s - 2ms/step - loss: 0.0020\n",
      "Epoch 63/100\n",
      "94/94 - 0s - 2ms/step - loss: 0.0020\n",
      "Epoch 64/100\n",
      "94/94 - 0s - 3ms/step - loss: 0.0020\n",
      "Epoch 65/100\n",
      "94/94 - 0s - 2ms/step - loss: 0.0021\n",
      "Epoch 66/100\n",
      "94/94 - 0s - 2ms/step - loss: 0.0021\n",
      "Epoch 67/100\n",
      "94/94 - 0s - 2ms/step - loss: 0.0020\n",
      "Epoch 68/100\n",
      "94/94 - 0s - 4ms/step - loss: 0.0020\n",
      "Epoch 69/100\n",
      "94/94 - 0s - 3ms/step - loss: 0.0020\n",
      "Epoch 70/100\n",
      "94/94 - 0s - 3ms/step - loss: 0.0021\n",
      "Epoch 71/100\n",
      "94/94 - 0s - 3ms/step - loss: 0.0020\n",
      "Epoch 72/100\n",
      "94/94 - 0s - 3ms/step - loss: 0.0021\n",
      "Epoch 73/100\n",
      "94/94 - 0s - 4ms/step - loss: 0.0021\n",
      "Epoch 74/100\n",
      "94/94 - 0s - 2ms/step - loss: 0.0021\n",
      "Epoch 75/100\n",
      "94/94 - 0s - 2ms/step - loss: 0.0020\n",
      "Epoch 76/100\n",
      "94/94 - 0s - 2ms/step - loss: 0.0022\n",
      "Epoch 77/100\n",
      "94/94 - 0s - 2ms/step - loss: 0.0020\n",
      "Epoch 78/100\n",
      "94/94 - 0s - 2ms/step - loss: 0.0020\n",
      "Epoch 79/100\n",
      "94/94 - 0s - 1ms/step - loss: 0.0021\n",
      "Epoch 80/100\n",
      "94/94 - 0s - 2ms/step - loss: 0.0020\n",
      "Epoch 81/100\n",
      "94/94 - 0s - 2ms/step - loss: 0.0020\n",
      "Epoch 82/100\n",
      "94/94 - 0s - 2ms/step - loss: 0.0020\n",
      "Epoch 83/100\n",
      "94/94 - 0s - 2ms/step - loss: 0.0020\n",
      "Epoch 84/100\n",
      "94/94 - 0s - 2ms/step - loss: 0.0021\n",
      "Epoch 85/100\n",
      "94/94 - 0s - 2ms/step - loss: 0.0020\n",
      "Epoch 86/100\n",
      "94/94 - 0s - 2ms/step - loss: 0.0020\n",
      "Epoch 87/100\n",
      "94/94 - 0s - 2ms/step - loss: 0.0020\n",
      "Epoch 88/100\n",
      "94/94 - 0s - 2ms/step - loss: 0.0021\n",
      "Epoch 89/100\n",
      "94/94 - 0s - 2ms/step - loss: 0.0020\n",
      "Epoch 90/100\n",
      "94/94 - 0s - 2ms/step - loss: 0.0020\n",
      "Epoch 91/100\n",
      "94/94 - 0s - 2ms/step - loss: 0.0021\n",
      "Epoch 92/100\n",
      "94/94 - 0s - 2ms/step - loss: 0.0020\n",
      "Epoch 93/100\n",
      "94/94 - 0s - 2ms/step - loss: 0.0020\n",
      "Epoch 94/100\n",
      "94/94 - 0s - 2ms/step - loss: 0.0021\n",
      "Epoch 95/100\n",
      "94/94 - 0s - 2ms/step - loss: 0.0020\n",
      "Epoch 96/100\n",
      "94/94 - 0s - 1ms/step - loss: 0.0020\n",
      "Epoch 97/100\n",
      "94/94 - 0s - 2ms/step - loss: 0.0020\n",
      "Epoch 98/100\n",
      "94/94 - 0s - 1ms/step - loss: 0.0020\n",
      "Epoch 99/100\n",
      "94/94 - 0s - 1ms/step - loss: 0.0020\n",
      "Epoch 100/100\n",
      "94/94 - 0s - 2ms/step - loss: 0.0020\n"
     ]
    },
    {
     "data": {
      "text/plain": [
       "<keras.src.callbacks.history.History at 0x1f2b499b620>"
      ]
     },
     "execution_count": 6,
     "metadata": {},
     "output_type": "execute_result"
    }
   ],
   "source": [
    "# create and fit the LSTM network\n",
    "model = Sequential()\n",
    "model.add(LSTM(4, input_shape=(1, look_back)))\n",
    "model.add(Dense(1))\n",
    "model.compile(loss='mean_squared_error', optimizer='adam')\n",
    "model.fit(trainX, trainY, epochs=100, batch_size=1, verbose=2)"
   ]
  },
  {
   "cell_type": "markdown",
   "id": "8b83fb72",
   "metadata": {},
   "source": [
    "Sequential model → layers stacked.\n",
    "\n",
    "LSTM with 4 neurons → captures sequential patterns.\n",
    "\n",
    "Dense layer with 1 neuron → predicts the next value.\n",
    "\n",
    "Loss = MSE (good for regression). Optimizer = Adam.\n",
    "\n",
    "Trains for 100 epochs, updating weights after each sample (batch_size=1)."
   ]
  },
  {
   "cell_type": "code",
   "execution_count": 7,
   "id": "5ccb1e36",
   "metadata": {},
   "outputs": [
    {
     "name": "stdout",
     "output_type": "stream",
     "text": [
      "\u001b[1m3/3\u001b[0m \u001b[32m━━━━━━━━━━━━━━━━━━━━\u001b[0m\u001b[37m\u001b[0m \u001b[1m0s\u001b[0m 87ms/step\n",
      "\u001b[1m2/2\u001b[0m \u001b[32m━━━━━━━━━━━━━━━━━━━━\u001b[0m\u001b[37m\u001b[0m \u001b[1m0s\u001b[0m 16ms/step\n"
     ]
    },
    {
     "data": {
      "image/png": "[encoded data removed]",
      "text/plain": [
       "<Figure size 640x480 with 1 Axes>"
      ]
     },
     "metadata": {},
     "output_type": "display_data"
    }
   ],
   "source": [
    "# make predictions\n",
    "trainPredict = model.predict(trainX)\n",
    "testPredict = model.predict(testX)\n",
    "# invert predictions\n",
    "trainPredict = scaler.inverse_transform(trainPredict)\n",
    "trainY = scaler.inverse_transform([trainY])\n",
    "testPredict = scaler.inverse_transform(testPredict)\n",
    "testY = scaler.inverse_transform([testY])\n",
    "# calculate root mean squared error\n",
    "trainScore = math.sqrt(mean_squared_error(trainY[0], trainPredict[:,0]))\n",
    "testScore = math.sqrt(mean_squared_error(testY[0], testPredict[:,0]))\n",
    "\n",
    "# shift train predictions for plotting\n",
    "trainPredictPlot = numpy.empty_like(dataset)\n",
    "trainPredictPlot[:, :] = numpy.nan\n",
    "trainPredictPlot[look_back:len(trainPredict)+look_back, :] = trainPredict\n",
    "# shift test predictions for plotting\n",
    "testPredictPlot = numpy.empty_like(dataset)\n",
    "testPredictPlot[:, :] = numpy.nan\n",
    "testPredictPlot[len(trainPredict)+(look_back*2)+1:len(dataset)-1, :] = testPredict\n",
    "# plot baseline and predictions\n",
    "plt.plot(scaler.inverse_transform(dataset))\n",
    "plt.plot(trainPredictPlot)\n",
    "plt.plot(testPredictPlot)\n",
    "plt.show()\n",
    "\n"
   ]
  },
  {
   "cell_type": "markdown",
   "id": "f8624e46",
   "metadata": {},
   "source": [
    "Converts predictions and targets back to original passenger scale.\n",
    "\n",
    "Calculates RMSE for train & test sets → error in original units (passenger numbers).\n",
    "\n",
    "Creates arrays filled with NaN values (placeholders).\n",
    "\n",
    "Inserts train/test predictions at the correct positions, aligning them with actual data.\n",
    "\n",
    "Plots the original passenger data (blue).\n",
    "\n",
    "Plots train predictions (green).\n",
    "\n",
    "Plots test predictions (red).\n",
    "\n",
    "Shows how well the LSTM learned and how well it forecasts unseen data."
   ]
  },
  {
   "cell_type": "markdown",
   "id": "d49a3159",
   "metadata": {},
   "source": []
  }
 ],
 "metadata": {
  "kernelspec": {
   "display_name": "Python 3",
   "language": "python",
   "name": "python3"
  },
  "language_info": {
   "codemirror_mode": {
    "name": "ipython",
    "version": 3
   },
   "file_extension": ".py",
   "mimetype": "text/x-python",
   "name": "python",
   "nbconvert_exporter": "python",
   "pygments_lexer": "ipython3",
   "version": "3.12.0"
  }
 },
 "nbformat": 4,
 "nbformat_minor": 5
}
